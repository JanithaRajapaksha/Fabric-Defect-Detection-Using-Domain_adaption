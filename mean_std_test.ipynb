{
 "cells": [
  {
   "cell_type": "code",
   "execution_count": 1,
   "id": "initial_id",
   "metadata": {
    "collapsed": true,
    "ExecuteTime": {
     "end_time": "2024-12-27T16:10:10.598959Z",
     "start_time": "2024-12-27T16:10:08.519247800Z"
    }
   },
   "outputs": [],
   "source": [
    "import torch\n",
    "import torchvision.datasets as datasets\n",
    "import torchvision.transforms as transforms\n",
    "from torch.utils.data import DataLoader"
   ]
  },
  {
   "cell_type": "code",
   "execution_count": 2,
   "outputs": [],
   "source": [
    "# train_dataset = datasets.CIFAR10(root='./dataset', train=True, transform=transforms.ToTensor(), download=True)\n",
    "# train_loader = DataLoader(dataset=train_dataset, batch_size=64, shuffle=True)\n",
    "\n",
    "image_transform = transforms.Compose([\n",
    "    transforms.Resize((224, 224)),\n",
    "    transforms.ToTensor()\n",
    "])\n",
    "\n",
    "train_dataset = datasets.ImageFolder(root='./source/train', transform=image_transform)\n",
    "train_loader = DataLoader(dataset=train_dataset, batch_size=64, shuffle=True)\n",
    "\n",
    "valid_dataset = datasets.ImageFolder(root='./target/train', transform=image_transform)\n",
    "valid_loader = DataLoader(dataset=valid_dataset, batch_size=64, shuffle=False)\n",
    "\n"
   ],
   "metadata": {
    "collapsed": false,
    "ExecuteTime": {
     "end_time": "2024-12-27T16:10:10.611115100Z",
     "start_time": "2024-12-27T16:10:10.599959400Z"
    }
   },
   "id": "ed8bbc33d7c704db"
  },
  {
   "cell_type": "code",
   "execution_count": 3,
   "outputs": [],
   "source": [
    "def get_mean_and_std(loader):\n",
    "    channels_sum, channels_squares_sum, num_batches = 0, 0, 0\n",
    "    \n",
    "    for data, _ in loader:\n",
    "        channels_sum += torch.mean(data, dim=[0, 2, 3])\n",
    "        channels_squares_sum += torch.mean(data**2, dim=[0, 2, 3])\n",
    "        num_batches += 1\n",
    "        \n",
    "    mean = channels_sum / num_batches\n",
    "    std = (channels_squares_sum / num_batches - mean**2)**0.5\n",
    "    \n",
    "    return mean, std"
   ],
   "metadata": {
    "collapsed": false,
    "ExecuteTime": {
     "end_time": "2024-12-27T16:10:10.619118700Z",
     "start_time": "2024-12-27T16:10:10.617120100Z"
    }
   },
   "id": "f9dcbf3476e1aa6d"
  },
  {
   "cell_type": "code",
   "execution_count": 4,
   "outputs": [
    {
     "name": "stdout",
     "output_type": "stream",
     "text": [
      "tensor([0.4790, 0.4790, 0.4790]) tensor([0.1645, 0.1645, 0.1645])\n"
     ]
    }
   ],
   "source": [
    "mean, std = get_mean_and_std(train_loader)\n",
    "print(mean, std)"
   ],
   "metadata": {
    "collapsed": false,
    "ExecuteTime": {
     "end_time": "2024-12-27T16:10:21.638683700Z",
     "start_time": "2024-12-27T16:10:10.620119800Z"
    }
   },
   "id": "8a4c61d3a4b66dd5"
  },
  {
   "cell_type": "code",
   "execution_count": 5,
   "outputs": [
    {
     "name": "stdout",
     "output_type": "stream",
     "text": [
      "tensor([0.4411, 0.4729, 0.5579]) tensor([0.1818, 0.1699, 0.1836])\n"
     ]
    }
   ],
   "source": [
    "mean, std = get_mean_and_std(valid_loader)\n",
    "print(mean, std)"
   ],
   "metadata": {
    "collapsed": false,
    "ExecuteTime": {
     "end_time": "2024-12-27T16:10:42.076383800Z",
     "start_time": "2024-12-27T16:10:21.639682700Z"
    }
   },
   "id": "8e4e22ae76148728"
  },
  {
   "cell_type": "code",
   "execution_count": null,
   "outputs": [],
   "source": [],
   "metadata": {
    "collapsed": false
   },
   "id": "d3acc952851dd1b5"
  }
 ],
 "metadata": {
  "kernelspec": {
   "display_name": "Python 3",
   "language": "python",
   "name": "python3"
  },
  "language_info": {
   "codemirror_mode": {
    "name": "ipython",
    "version": 2
   },
   "file_extension": ".py",
   "mimetype": "text/x-python",
   "name": "python",
   "nbconvert_exporter": "python",
   "pygments_lexer": "ipython2",
   "version": "2.7.6"
  }
 },
 "nbformat": 4,
 "nbformat_minor": 5
}
